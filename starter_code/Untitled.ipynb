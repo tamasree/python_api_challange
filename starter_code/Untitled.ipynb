{
 "cells": [
  {
   "cell_type": "code",
   "execution_count": 1,
   "id": "cd620fb5-89b5-4fc0-9766-e09b900a85e3",
   "metadata": {},
   "outputs": [],
   "source": [
    "import pandas as pd"
   ]
  },
  {
   "cell_type": "code",
   "execution_count": 4,
   "id": "dcc03418-705e-4064-94f9-60419aa0c22a",
   "metadata": {},
   "outputs": [
    {
     "data": {
      "text/html": [
       "<div>\n",
       "<style scoped>\n",
       "    .dataframe tbody tr th:only-of-type {\n",
       "        vertical-align: middle;\n",
       "    }\n",
       "\n",
       "    .dataframe tbody tr th {\n",
       "        vertical-align: top;\n",
       "    }\n",
       "\n",
       "    .dataframe thead th {\n",
       "        text-align: right;\n",
       "    }\n",
       "</style>\n",
       "<table border=\"1\" class=\"dataframe\">\n",
       "  <thead>\n",
       "    <tr style=\"text-align: right;\">\n",
       "      <th></th>\n",
       "      <th>Unnamed: 0</th>\n",
       "      <th>City</th>\n",
       "      <th>Id</th>\n",
       "      <th>country</th>\n",
       "      <th>lat</th>\n",
       "      <th>lng</th>\n",
       "      <th>Cloudiness</th>\n",
       "      <th>humidity</th>\n",
       "      <th>temperature</th>\n",
       "      <th>wind_speed</th>\n",
       "    </tr>\n",
       "  </thead>\n",
       "  <tbody>\n",
       "    <tr>\n",
       "      <th>0</th>\n",
       "      <td>0</td>\n",
       "      <td>Bengkulu</td>\n",
       "      <td>1649150</td>\n",
       "      <td>ID</td>\n",
       "      <td>-3.8004</td>\n",
       "      <td>102.2655</td>\n",
       "      <td>82</td>\n",
       "      <td>90</td>\n",
       "      <td>73.33</td>\n",
       "      <td>2.75</td>\n",
       "    </tr>\n",
       "    <tr>\n",
       "      <th>1</th>\n",
       "      <td>1</td>\n",
       "      <td>Saint-Philippe</td>\n",
       "      <td>935215</td>\n",
       "      <td>RE</td>\n",
       "      <td>-21.3585</td>\n",
       "      <td>55.7679</td>\n",
       "      <td>4</td>\n",
       "      <td>71</td>\n",
       "      <td>63.14</td>\n",
       "      <td>7.27</td>\n",
       "    </tr>\n",
       "    <tr>\n",
       "      <th>2</th>\n",
       "      <td>2</td>\n",
       "      <td>Punta Arenas</td>\n",
       "      <td>3874787</td>\n",
       "      <td>CL</td>\n",
       "      <td>-53.1500</td>\n",
       "      <td>-70.9167</td>\n",
       "      <td>90</td>\n",
       "      <td>87</td>\n",
       "      <td>42.91</td>\n",
       "      <td>17.27</td>\n",
       "    </tr>\n",
       "    <tr>\n",
       "      <th>3</th>\n",
       "      <td>3</td>\n",
       "      <td>Luanda</td>\n",
       "      <td>2240449</td>\n",
       "      <td>AO</td>\n",
       "      <td>-8.8368</td>\n",
       "      <td>13.2343</td>\n",
       "      <td>20</td>\n",
       "      <td>78</td>\n",
       "      <td>71.60</td>\n",
       "      <td>6.91</td>\n",
       "    </tr>\n",
       "    <tr>\n",
       "      <th>4</th>\n",
       "      <td>4</td>\n",
       "      <td>Natick</td>\n",
       "      <td>4944994</td>\n",
       "      <td>US</td>\n",
       "      <td>42.2834</td>\n",
       "      <td>-71.3495</td>\n",
       "      <td>6</td>\n",
       "      <td>78</td>\n",
       "      <td>64.08</td>\n",
       "      <td>4.45</td>\n",
       "    </tr>\n",
       "  </tbody>\n",
       "</table>\n",
       "</div>"
      ],
      "text/plain": [
       "   Unnamed: 0            City       Id country      lat       lng  Cloudiness  \\\n",
       "0           0        Bengkulu  1649150      ID  -3.8004  102.2655          82   \n",
       "1           1  Saint-Philippe   935215      RE -21.3585   55.7679           4   \n",
       "2           2    Punta Arenas  3874787      CL -53.1500  -70.9167          90   \n",
       "3           3          Luanda  2240449      AO  -8.8368   13.2343          20   \n",
       "4           4          Natick  4944994      US  42.2834  -71.3495           6   \n",
       "\n",
       "   humidity  temperature  wind_speed  \n",
       "0        90        73.33        2.75  \n",
       "1        71        63.14        7.27  \n",
       "2        87        42.91       17.27  \n",
       "3        78        71.60        6.91  \n",
       "4        78        64.08        4.45  "
      ]
     },
     "execution_count": 4,
     "metadata": {},
     "output_type": "execute_result"
    }
   ],
   "source": [
    "df=pd.read_csv(\"City_Data_Output.csv\")\n",
    "df.head()"
   ]
  },
  {
   "cell_type": "code",
   "execution_count": 6,
   "id": "c804047f-9f64-4360-8d18-a3ce0599e0ee",
   "metadata": {},
   "outputs": [],
   "source": [
    "df.to_html(\"data.html\")"
   ]
  },
  {
   "cell_type": "code",
   "execution_count": null,
   "id": "0cb1bca1-2f5b-4986-a9f7-dc7c3c843c6d",
   "metadata": {},
   "outputs": [],
   "source": []
  }
 ],
 "metadata": {
  "kernelspec": {
   "display_name": "Python 3",
   "language": "python",
   "name": "python3"
  },
  "language_info": {
   "codemirror_mode": {
    "name": "ipython",
    "version": 3
   },
   "file_extension": ".py",
   "mimetype": "text/x-python",
   "name": "python",
   "nbconvert_exporter": "python",
   "pygments_lexer": "ipython3",
   "version": "3.6.13"
  }
 },
 "nbformat": 4,
 "nbformat_minor": 5
}
